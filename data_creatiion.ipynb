{
 "cells": [
  {
   "cell_type": "code",
   "execution_count": 15,
   "metadata": {},
   "outputs": [
    {
     "name": "stderr",
     "output_type": "stream",
     "text": [
      "Saving the dataset (1/1 shards): 100%|██████████| 12240/12240 [00:00<00:00, 2048696.32 examples/s]\n"
     ]
    }
   ],
   "source": [
    "from datasets import Dataset, DatasetDict\n",
    "import os\n",
    "\n",
    "data = {\"image\": [], \"text\": []}\n",
    "root = \"./dataset\"\n",
    "for class_name in os.listdir(root):\n",
    "\n",
    "    class_dir = os.path.join(root, class_name)\n",
    "    for img_file in os.listdir(class_dir):\n",
    "        img_path = os.path.join(class_dir, img_file)\n",
    "        prompt = f\"{class_name[2::]} air quality\"\n",
    "        data[\"image\"].append(img_path)\n",
    "        data[\"text\"].append(prompt)\n",
    "\n",
    "dataset = Dataset.from_dict(data)\n",
    "dataset.save_to_disk(\"./processed_dataset\")\n"
   ]
  }
 ],
 "metadata": {
  "kernelspec": {
   "display_name": "Python 3",
   "language": "python",
   "name": "python3"
  },
  "language_info": {
   "codemirror_mode": {
    "name": "ipython",
    "version": 3
   },
   "file_extension": ".py",
   "mimetype": "text/x-python",
   "name": "python",
   "nbconvert_exporter": "python",
   "pygments_lexer": "ipython3",
   "version": "3.8.10"
  }
 },
 "nbformat": 4,
 "nbformat_minor": 2
}
